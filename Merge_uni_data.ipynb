{
 "cells": [
  {
   "cell_type": "code",
   "execution_count": 39,
   "metadata": {},
   "outputs": [],
   "source": [
    "import pandas as pd\n",
    "import numpy as np\n",
    "from functools import reduce\n",
    "import json"
   ]
  },
  {
   "cell_type": "code",
   "execution_count": 40,
   "metadata": {},
   "outputs": [],
   "source": [
    "# 1. Extract time-invariant vars (locations, adm criteria, tuition) from the most recent year\n",
    "\n",
    "'''\n",
    "    We will include all the universities appearing in our dataset of the following year: 2016 - 2019\n",
    "    and the data in the most recent year will be selected.\n",
    "    \n",
    "    E.g., universities that appeared in 2019 will have their data in 2019 chosen; \n",
    "          those that didn't appear in 2019 but appeared in 2018 will also be included with their 2018 records.\n",
    "    \n",
    "'''\n",
    "\n",
    "col_geo = ['UNITID', 'INSTNM', 'ADDR', 'CITY', 'STABBR', 'LONGITUD', 'LATITUDE']\n",
    "col_adm = ['UNITID'] + [f'ADMCON{n}' for n in range(1, 10)]\n",
    "col_fee = ['UNITID', 'TUITION2', 'TUITION3']\n",
    "\n",
    "df_lists = []\n",
    "for i in range(2016, 2020):\n",
    "    geo = pd.read_csv(f\"./University_data/hd{i}.csv\", encoding='ISO-8859-1').loc[:, col_geo]\n",
    "    adm = pd.read_csv(f\"./University_data/adm{i}.csv\").loc[:, col_adm]\n",
    "    fee = pd.read_csv(f\"./University_data/ic{i}_ay.csv\").loc[:, col_fee].replace('.', np.nan).dropna().astype(int)\n",
    "    geo['YEAR'] = i\n",
    "    adm['YEAR'] = i\n",
    "    fee['YEAR'] = i\n",
    "    df_lists.append([geo, adm, fee])\n",
    "\n",
    "def append_dfs(pos):\n",
    "    df = reduce(lambda top, bottom: top.append(bottom), [df_list[pos] for df_list in df_lists])\n",
    "    return df.sort_values(['UNITID', 'YEAR']).groupby('UNITID').apply(lambda df: df.iloc[-1])\n",
    "\n",
    "df_geo = append_dfs(0)\n",
    "df_admc = append_dfs(1)\n",
    "df_fee = append_dfs(2)"
   ]
  },
  {
   "cell_type": "code",
   "execution_count": 41,
   "metadata": {},
   "outputs": [],
   "source": [
    "# 2. Calculate the average admission rates (disaggregated by gender) in the past 10 years\n",
    "\n",
    "col_rate = [\"UNITID\", \"APPLCN\", \"ADMSSN\", \"APPLCNM\", \"ADMSSNM\", \"APPLCNW\", \"ADMSSNW\"]\n",
    "df_admr = pd.DataFrame()\n",
    "for i in range(2010, 2020):\n",
    "    admr = pd.read_csv(f\"./University_data/adm{i}.csv\")\n",
    "    admr = admr.loc[:, col_rate].replace(\".\", np.nan).astype(float)\n",
    "    admr[\"ADMR\"] = admr[\"ADMSSN\"] / admr[\"APPLCN\"]\n",
    "    admr[\"ADMRM\"] = admr[\"ADMSSNM\"] / admr[\"APPLCNM\"]\n",
    "    admr[\"ADMRW\"] = admr[\"ADMSSNW\"] / admr[\"APPLCNW\"]\n",
    "    df_admr = df_admr.append(admr)\n",
    "    \n",
    "df_admr = df_admr.groupby(\"UNITID\")[[\"ADMR\", \"ADMRM\", \"ADMRW\"]].mean().dropna().round(4)"
   ]
  },
  {
   "cell_type": "code",
   "execution_count": 42,
   "metadata": {},
   "outputs": [],
   "source": [
    "# 3. Average the parameters (mean, SD) of SAT/ACT scores in the past 10 years (assuming normal distribution)\n",
    "\n",
    "col_sco = [\"SATVR25\", \"SATVR75\", \"SATMT25\", \"SATMT75\", \n",
    "           \"ACTCM25\", \"ACTCM75\", \"ACTEN25\", \"ACTEN75\", \"ACTMT25\", \"ACTMT75\"]\n",
    "df_adms = pd.DataFrame()\n",
    "for i in range(2010, 2020):\n",
    "    adms = pd.read_csv(f\"./University_data/adm{i}.csv\", index_col=\"UNITID\")\n",
    "    adms.columns = [col.strip() for col in adms.columns]\n",
    "    adms = adms.loc[:, col_sco].replace(\".\", np.nan).astype(float)\n",
    "    adms[\"YEAR\"] = i\n",
    "    for col in [\"SATVR\", \"SATMT\", \"ACTCM\", \"ACTEN\", \"ACTMT\"]:\n",
    "        adms[f\"{col}M\"] = adms[f\"{col}25\"] + (adms[f\"{col}75\"] - adms[f\"{col}25\"]) / 2\n",
    "        adms[f\"{col}SD\"] = (adms[f\"{col}75\"] - adms[f\"{col}M\"]) / 0.675  #z-score for 75% percentile\n",
    "    df_adms = df_adms.append(adms)\n",
    "    \n",
    "df_adms = df_adms.iloc[:, 10:].groupby('UNITID').mean().dropna().round(4)"
   ]
  },
  {
   "cell_type": "code",
   "execution_count": 43,
   "metadata": {},
   "outputs": [],
   "source": [
    "# 4. Merge\n",
    "dfls = [df_geo.iloc[:, 1:-1], df_fee.iloc[:, 1:-1], df_admc.iloc[:, 1:-1], df_admr, df_adms.iloc[:, 1:]]\n",
    "final = reduce(lambda l, r: pd.merge(l, r, how='inner', left_index=True, right_index=True), dfls).dropna()"
   ]
  },
  {
   "cell_type": "code",
   "execution_count": 45,
   "metadata": {},
   "outputs": [],
   "source": [
    "# 5. University ranking\n",
    "\n",
    "with open(\"./University_data/correct_data.json\") as datafile:\n",
    "    correct_data = json.load(datafile)\n",
    "    \n",
    "rank = pd.read_csv(\"./University_data/cwurData.csv\").rename(columns={'institution':'INSTNM','national_rank':'rank'})\n",
    "rank = rank.drop_duplicates(subset='INSTNM').loc[rank['country'] == 'USA', ['INSTNM', 'rank']]\n",
    "rank['INSTNM'].replace({\", \": \"-\", '–': '-'}, inplace=True, regex=True)\n",
    "rank['INSTNM'].replace(correct_data['rename'], inplace=True)\n",
    "\n",
    "final_rank = pd.merge(final.reset_index(), rank, on='INSTNM', how='left').sort_values('rank')\n",
    "final_rank['rank'].fillna(9999, inplace=True)\n",
    "\n",
    "# handle some empty address\n",
    "for school, address in correct_data['addr'].items():\n",
    "    final_rank.loc[final_rank['INSTNM'] == school, 'ADDR'] = address"
   ]
  },
  {
   "cell_type": "code",
   "execution_count": 46,
   "metadata": {},
   "outputs": [],
   "source": [
    "# Export data\n",
    "sup = pd.read_excel(\"./University_data/suppliment.xlsx\", index_col='UNITID').iloc[:, 2:]\n",
    "sup['image_url'].fillna('https://imgur.com/tH33XHm', inplace=True)\n",
    "sup.fillna(9999, inplace=True)\n",
    "final_sup = pd.merge(final_rank.set_index('UNITID'), sup, how='left', left_index=True, right_index=True)\n",
    "final_sup.to_csv('./University_data/ranked_merged_data_sup.csv')"
   ]
  }
 ],
 "metadata": {
  "kernelspec": {
   "display_name": "Python 3",
   "language": "python",
   "name": "python3"
  },
  "language_info": {
   "codemirror_mode": {
    "name": "ipython",
    "version": 3
   },
   "file_extension": ".py",
   "mimetype": "text/x-python",
   "name": "python",
   "nbconvert_exporter": "python",
   "pygments_lexer": "ipython3",
   "version": "3.8.3"
  }
 },
 "nbformat": 4,
 "nbformat_minor": 4
}
